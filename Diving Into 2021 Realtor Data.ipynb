{
 "cells": [
  {
   "cell_type": "markdown",
   "id": "9915304b",
   "metadata": {},
   "source": [
    "# Diving into 2021 Realtor Data"
   ]
  },
  {
   "cell_type": "markdown",
   "id": "05052226",
   "metadata": {},
   "source": [
    "## Introduction"
   ]
  },
  {
   "cell_type": "markdown",
   "id": "e2b29f1b",
   "metadata": {},
   "source": [
    "### One of the most exciting concepts about real estate is the fact that no matter who you are or where you live, you exsist in the business of real estate in one form or another. In this dataset we are going to take a look at some real estate data from 2021 that was scraped from www.realtor.com that includes over 900K properties. Before we begin here is a little breakdown of the columns and a description to understand them more clearly:\n",
    "\n",
    "- status (Housing status - a. ready for sale or b. ready to build)\n",
    "- bed (# of beds)\n",
    "- bath (# of bathrooms)\n",
    "- acre_lot (Property / Land size in acres)\n",
    "- city (city name)\n",
    "- state (state name)\n",
    "- zip_code (postal code of the area\n",
    "- house_size (house area/size/living space in square feet)\n",
    "- prev_sold_date (Previously sold date)\n",
    "- price (Housing price, it is either the current listing price or recently sold price if the house is sold recently)"
   ]
  },
  {
   "cell_type": "markdown",
   "id": "41c3dd59",
   "metadata": {},
   "source": [
    "## Limitations\n",
    "\n",
    "### As far as the limitation go on this dataset, every state is not included within this dataset so we won't be able to compare some concepts from a national standpoint."
   ]
  },
  {
   "cell_type": "markdown",
   "id": "8261cf0b",
   "metadata": {},
   "source": [
    "## Structure\n",
    "\n",
    "### As we work through this project, we are going to answer 5 questions.\n",
    "\n",
    "1. What is the distribution of housing statuses in this dataset (ready for sale or ready to build)?\n",
    "2.  What states are the dataset comprised of?\n",
    "3. Can we identify any trends between the number of bedrooms and the price of the property?\n",
    "4. What are the top five cities with the highest average housing prices?\n",
    "5. If there are any seasonal trends in property sales, and can you identify the best time to list a property?"
   ]
  },
  {
   "cell_type": "code",
   "execution_count": 1,
   "id": "5e8d020d",
   "metadata": {},
   "outputs": [],
   "source": [
    "import pandas as pd\n",
    "import seaborn as sns\n",
    "import matplotlib.pyplot as plt"
   ]
  },
  {
   "cell_type": "code",
   "execution_count": 2,
   "id": "9a4d9693",
   "metadata": {},
   "outputs": [],
   "source": [
    "realtor_data=pd.read_csv('realtor_data.csv', sep=',')"
   ]
  },
  {
   "cell_type": "markdown",
   "id": "10112da0",
   "metadata": {},
   "source": [
    "## 1. What is the distribution of housing statuses in this dataset (ready for sale or ready to build)?\n",
    "\n",
    "### With over 900K properties in this dataset, we want to identify which houses are readily available and \"for sale\" vs the properties that are ready to build which lay in the \"ready to build\" category. We go on to see that there is an overwhelming number of houses for sale vs those ready to build. There are 903,373 houses for sale vs 1,593 houses ready to build."
   ]
  },
  {
   "cell_type": "code",
   "execution_count": 3,
   "id": "fb031923",
   "metadata": {},
   "outputs": [
    {
     "data": {
      "text/plain": [
       "for_sale          903373\n",
       "ready_to_build      1593\n",
       "Name: status, dtype: int64"
      ]
     },
     "execution_count": 3,
     "metadata": {},
     "output_type": "execute_result"
    }
   ],
   "source": [
    "sale_vs_build= realtor_data['status'].value_counts()\n",
    "sale_vs_build"
   ]
  },
  {
   "cell_type": "markdown",
   "id": "de070d72",
   "metadata": {},
   "source": [
    "## 2. What states are the dataset comprised of?\n",
    "\n",
    "### As mentioned in our 'Limitations' section, not every state is represented in our dataset. Well, that leaves the question of \"What states are represented in our dataset?\". Through our discovery, we find out that there are a total of 18 states represented. New Jersey, New York and Massachusetts are the top 3 with Tennessee, Wyoming and West Virginia being on the lower end of representation as the bottom 3."
   ]
  },
  {
   "cell_type": "code",
   "execution_count": 4,
   "id": "02ac832e",
   "metadata": {},
   "outputs": [
    {
     "data": {
      "text/plain": [
       "New Jersey        231958\n",
       "New York          197215\n",
       "Massachusetts     175248\n",
       "Connecticut        89778\n",
       "New Hampshire      51394\n",
       "Vermont            46460\n",
       "Maine              36650\n",
       "Rhode Island       29596\n",
       "Puerto Rico        24679\n",
       "Pennsylvania       17148\n",
       "Virgin Islands      2573\n",
       "Delaware            2135\n",
       "Georgia               50\n",
       "Virginia              31\n",
       "South Carolina        25\n",
       "Tennessee             20\n",
       "Wyoming                3\n",
       "West Virginia          3\n",
       "Name: state, dtype: int64"
      ]
     },
     "execution_count": 4,
     "metadata": {},
     "output_type": "execute_result"
    }
   ],
   "source": [
    "states= realtor_data['state'].value_counts(sort=True)\n",
    "states"
   ]
  },
  {
   "cell_type": "markdown",
   "id": "9522166d",
   "metadata": {},
   "source": [
    "## 3. Can we identify any trends between the number of bedrooms and the price of the property?\n",
    "\n",
    "### In real estate, there is usually a trend in the number of bedrooms and the price of the house. There are variables that can influence that however. In real estate, the saying goes \"location, location, location\" because it has the biggest impact on prices. We can see a trend develop right up to around that 21 bedrooms. Then it starts to get a little sporatic."
   ]
  },
  {
   "cell_type": "code",
   "execution_count": 54,
   "id": "9c2f3147",
   "metadata": {},
   "outputs": [
    {
     "data": {
      "image/png": "[encoded data removed]",
      "text/plain": [
       "<Figure size 640x480 with 1 Axes>"
      ]
     },
     "metadata": {},
     "output_type": "display_data"
    }
   ],
   "source": [
    "sns.barplot(x=\"bed\", y=\"price\", data=realtor_data, width=.5)\n",
    "plt.xticks(rotation=90)\n",
    "plt.subplots_adjust(bottom=0.15)\n",
    "plt.show()"
   ]
  },
  {
   "cell_type": "markdown",
   "id": "8268685a",
   "metadata": {},
   "source": [
    "## 4. What are the top five cities with the highest average housing prices?\n",
    "\n",
    "### Earlier we saw that we gathered information from 18 states in total. Now we circle around to take a deeper look into the cities of those respective states. The city with the highest is  Waterfront with $12,000,000. Followed by Rochdalle Village, Middletown Township, Woods Hole and Chilmark rounds out the top 5."
   ]
  },
  {
   "cell_type": "code",
   "execution_count": 77,
   "id": "45877708",
   "metadata": {
    "scrolled": true
   },
   "outputs": [
    {
     "data": {
      "text/plain": [
       "city\n",
       "Waterfront             1.200000e+07\n",
       "Rochdale Village       9.800000e+06\n",
       "Middletown Township    9.200000e+06\n",
       "Woods Hole             8.583000e+06\n",
       "Chilmark               7.136333e+06\n",
       "Name: price, dtype: float64"
      ]
     },
     "execution_count": 77,
     "metadata": {},
     "output_type": "execute_result"
    }
   ],
   "source": [
    "city_avg=realtor_data.groupby('city')['price'].mean().sort_values(ascending=False)\n",
    "city_avg.head(5)"
   ]
  },
  {
   "cell_type": "code",
   "execution_count": 87,
   "id": "c4f0b884",
   "metadata": {
    "scrolled": true
   },
   "outputs": [
    {
     "data": {
      "text/plain": [
       "New York City    47502\n",
       "New York         46432\n",
       "Boston           31502\n",
       "Brooklyn         22690\n",
       "Philadelphia     10416\n",
       "                 ...  \n",
       "Mahopac              1\n",
       "Carmel Hamlet        1\n",
       "Riverhead            1\n",
       "Sunset Park          1\n",
       "North Salem          1\n",
       "Name: city, Length: 2487, dtype: int64"
      ]
     },
     "execution_count": 87,
     "metadata": {},
     "output_type": "execute_result"
    }
   ],
   "source": [
    "cities= realtor_data['city'].value_counts(sort=True)\n",
    "cities"
   ]
  },
  {
   "cell_type": "markdown",
   "id": "87390240",
   "metadata": {},
   "source": [
    "## 5. Which quarter has yielded the best results for property sales historically?\n",
    "\n",
    "### Real Estate is a complex business and it never really stops. While houses are listed throughout the entire year, it is no secret that there is an ideal time to list and sale a propery to maximize your profit. Q1 is January thorugh March, Q2 is April through June, Q3 is July through September and Q4 is October through December. Q3 has yielded the most sales since we can only measure that through our 'prev_sold_date' column which would confirm a sell has been documented. Q3 has sold 126,062 properties making it the top producing quarter historically with Q4 coming in second with 113,039. The gap between Q4 and Q3 is 13,023 properties. That 13,023 could be the difference in millions or even billions of dollars if the property slips into Q4."
   ]
  },
  {
   "cell_type": "code",
   "execution_count": 91,
   "id": "403bba82",
   "metadata": {},
   "outputs": [
    {
     "data": {
      "text/plain": [
       "2018-07-25    317\n",
       "2022-01-21    305\n",
       "2021-12-01    269\n",
       "2021-12-14    267\n",
       "2021-10-18    256\n",
       "2005-08-01    253\n",
       "2022-02-28    245\n",
       "2016-08-30    242\n",
       "2006-09-01    239\n",
       "2005-07-29    229\n",
       "Name: prev_sold_date, dtype: int64"
      ]
     },
     "execution_count": 91,
     "metadata": {},
     "output_type": "execute_result"
    }
   ],
   "source": [
    "dates=realtor_data['prev_sold_date'].value_counts()\n",
    "dates.head(10).sort_values(ascending=False)"
   ]
  },
  {
   "cell_type": "code",
   "execution_count": 92,
   "id": "4e8a68d0",
   "metadata": {
    "scrolled": false
   },
   "outputs": [
    {
     "name": "stdout",
     "output_type": "stream",
     "text": [
      "<class 'pandas.core.frame.DataFrame'>\n",
      "RangeIndex: 904966 entries, 0 to 904965\n",
      "Data columns (total 11 columns):\n",
      " #   Column          Non-Null Count   Dtype         \n",
      "---  ------          --------------   -----         \n",
      " 0   status          904966 non-null  object        \n",
      " 1   bed             775126 non-null  float64       \n",
      " 2   bath            791082 non-null  float64       \n",
      " 3   acre_lot        638324 non-null  float64       \n",
      " 4   city            904894 non-null  object        \n",
      " 5   state           904966 non-null  object        \n",
      " 6   zip_code        904762 non-null  float64       \n",
      " 7   house_size      612080 non-null  float64       \n",
      " 8   prev_sold_date  445865 non-null  datetime64[ns]\n",
      " 9   price           904895 non-null  float64       \n",
      " 10  month           445865 non-null  float64       \n",
      "dtypes: datetime64[ns](1), float64(7), object(3)\n",
      "memory usage: 75.9+ MB\n"
     ]
    }
   ],
   "source": [
    "realtor_data.info()"
   ]
  },
  {
   "cell_type": "code",
   "execution_count": 93,
   "id": "f9ef948a",
   "metadata": {},
   "outputs": [],
   "source": [
    "realtor_data['prev_sold_date']= pd.to_datetime(realtor_data['prev_sold_date'])"
   ]
  },
  {
   "cell_type": "code",
   "execution_count": 94,
   "id": "ff1b191a",
   "metadata": {
    "scrolled": true
   },
   "outputs": [
    {
     "name": "stdout",
     "output_type": "stream",
     "text": [
      "<class 'pandas.core.frame.DataFrame'>\n",
      "RangeIndex: 904966 entries, 0 to 904965\n",
      "Data columns (total 11 columns):\n",
      " #   Column          Non-Null Count   Dtype         \n",
      "---  ------          --------------   -----         \n",
      " 0   status          904966 non-null  object        \n",
      " 1   bed             775126 non-null  float64       \n",
      " 2   bath            791082 non-null  float64       \n",
      " 3   acre_lot        638324 non-null  float64       \n",
      " 4   city            904894 non-null  object        \n",
      " 5   state           904966 non-null  object        \n",
      " 6   zip_code        904762 non-null  float64       \n",
      " 7   house_size      612080 non-null  float64       \n",
      " 8   prev_sold_date  445865 non-null  datetime64[ns]\n",
      " 9   price           904895 non-null  float64       \n",
      " 10  month           445865 non-null  float64       \n",
      "dtypes: datetime64[ns](1), float64(7), object(3)\n",
      "memory usage: 75.9+ MB\n"
     ]
    }
   ],
   "source": [
    "realtor_data.info()"
   ]
  },
  {
   "cell_type": "code",
   "execution_count": 96,
   "id": "2748118d",
   "metadata": {
    "scrolled": false
   },
   "outputs": [
    {
     "data": {
      "text/html": [
       "<div>\n",
       "<style scoped>\n",
       "    .dataframe tbody tr th:only-of-type {\n",
       "        vertical-align: middle;\n",
       "    }\n",
       "\n",
       "    .dataframe tbody tr th {\n",
       "        vertical-align: top;\n",
       "    }\n",
       "\n",
       "    .dataframe thead th {\n",
       "        text-align: right;\n",
       "    }\n",
       "</style>\n",
       "<table border=\"1\" class=\"dataframe\">\n",
       "  <thead>\n",
       "    <tr style=\"text-align: right;\">\n",
       "      <th></th>\n",
       "      <th>status</th>\n",
       "      <th>bed</th>\n",
       "      <th>bath</th>\n",
       "      <th>acre_lot</th>\n",
       "      <th>city</th>\n",
       "      <th>state</th>\n",
       "      <th>zip_code</th>\n",
       "      <th>house_size</th>\n",
       "      <th>prev_sold_date</th>\n",
       "      <th>price</th>\n",
       "      <th>month</th>\n",
       "    </tr>\n",
       "  </thead>\n",
       "  <tbody>\n",
       "    <tr>\n",
       "      <th>0</th>\n",
       "      <td>for_sale</td>\n",
       "      <td>3.0</td>\n",
       "      <td>2.0</td>\n",
       "      <td>0.12</td>\n",
       "      <td>Adjuntas</td>\n",
       "      <td>Puerto Rico</td>\n",
       "      <td>601.0</td>\n",
       "      <td>920.0</td>\n",
       "      <td>NaT</td>\n",
       "      <td>105000.0</td>\n",
       "      <td>NaN</td>\n",
       "    </tr>\n",
       "    <tr>\n",
       "      <th>1</th>\n",
       "      <td>for_sale</td>\n",
       "      <td>4.0</td>\n",
       "      <td>2.0</td>\n",
       "      <td>0.08</td>\n",
       "      <td>Adjuntas</td>\n",
       "      <td>Puerto Rico</td>\n",
       "      <td>601.0</td>\n",
       "      <td>1527.0</td>\n",
       "      <td>NaT</td>\n",
       "      <td>80000.0</td>\n",
       "      <td>NaN</td>\n",
       "    </tr>\n",
       "    <tr>\n",
       "      <th>2</th>\n",
       "      <td>for_sale</td>\n",
       "      <td>2.0</td>\n",
       "      <td>1.0</td>\n",
       "      <td>0.15</td>\n",
       "      <td>Juana Diaz</td>\n",
       "      <td>Puerto Rico</td>\n",
       "      <td>795.0</td>\n",
       "      <td>748.0</td>\n",
       "      <td>NaT</td>\n",
       "      <td>67000.0</td>\n",
       "      <td>NaN</td>\n",
       "    </tr>\n",
       "    <tr>\n",
       "      <th>3</th>\n",
       "      <td>for_sale</td>\n",
       "      <td>4.0</td>\n",
       "      <td>2.0</td>\n",
       "      <td>0.10</td>\n",
       "      <td>Ponce</td>\n",
       "      <td>Puerto Rico</td>\n",
       "      <td>731.0</td>\n",
       "      <td>1800.0</td>\n",
       "      <td>NaT</td>\n",
       "      <td>145000.0</td>\n",
       "      <td>NaN</td>\n",
       "    </tr>\n",
       "    <tr>\n",
       "      <th>4</th>\n",
       "      <td>for_sale</td>\n",
       "      <td>6.0</td>\n",
       "      <td>2.0</td>\n",
       "      <td>0.05</td>\n",
       "      <td>Mayaguez</td>\n",
       "      <td>Puerto Rico</td>\n",
       "      <td>680.0</td>\n",
       "      <td>NaN</td>\n",
       "      <td>NaT</td>\n",
       "      <td>65000.0</td>\n",
       "      <td>NaN</td>\n",
       "    </tr>\n",
       "    <tr>\n",
       "      <th>...</th>\n",
       "      <td>...</td>\n",
       "      <td>...</td>\n",
       "      <td>...</td>\n",
       "      <td>...</td>\n",
       "      <td>...</td>\n",
       "      <td>...</td>\n",
       "      <td>...</td>\n",
       "      <td>...</td>\n",
       "      <td>...</td>\n",
       "      <td>...</td>\n",
       "      <td>...</td>\n",
       "    </tr>\n",
       "    <tr>\n",
       "      <th>904961</th>\n",
       "      <td>for_sale</td>\n",
       "      <td>2.0</td>\n",
       "      <td>2.0</td>\n",
       "      <td>NaN</td>\n",
       "      <td>New York City</td>\n",
       "      <td>New York</td>\n",
       "      <td>10463.0</td>\n",
       "      <td>NaN</td>\n",
       "      <td>2021-08-13</td>\n",
       "      <td>359000.0</td>\n",
       "      <td>8.0</td>\n",
       "    </tr>\n",
       "    <tr>\n",
       "      <th>904962</th>\n",
       "      <td>for_sale</td>\n",
       "      <td>2.0</td>\n",
       "      <td>2.0</td>\n",
       "      <td>NaN</td>\n",
       "      <td>Bronx</td>\n",
       "      <td>New York</td>\n",
       "      <td>10463.0</td>\n",
       "      <td>1200.0</td>\n",
       "      <td>NaT</td>\n",
       "      <td>299000.0</td>\n",
       "      <td>NaN</td>\n",
       "    </tr>\n",
       "    <tr>\n",
       "      <th>904963</th>\n",
       "      <td>for_sale</td>\n",
       "      <td>NaN</td>\n",
       "      <td>1.0</td>\n",
       "      <td>NaN</td>\n",
       "      <td>Bronx</td>\n",
       "      <td>New York</td>\n",
       "      <td>10463.0</td>\n",
       "      <td>NaN</td>\n",
       "      <td>NaT</td>\n",
       "      <td>120000.0</td>\n",
       "      <td>NaN</td>\n",
       "    </tr>\n",
       "    <tr>\n",
       "      <th>904964</th>\n",
       "      <td>for_sale</td>\n",
       "      <td>3.0</td>\n",
       "      <td>2.0</td>\n",
       "      <td>NaN</td>\n",
       "      <td>Bronx</td>\n",
       "      <td>New York</td>\n",
       "      <td>10463.0</td>\n",
       "      <td>NaN</td>\n",
       "      <td>NaT</td>\n",
       "      <td>449000.0</td>\n",
       "      <td>NaN</td>\n",
       "    </tr>\n",
       "    <tr>\n",
       "      <th>904965</th>\n",
       "      <td>for_sale</td>\n",
       "      <td>3.0</td>\n",
       "      <td>3.0</td>\n",
       "      <td>NaN</td>\n",
       "      <td>New York City</td>\n",
       "      <td>New York</td>\n",
       "      <td>10463.0</td>\n",
       "      <td>1677.0</td>\n",
       "      <td>2007-06-27</td>\n",
       "      <td>850000.0</td>\n",
       "      <td>6.0</td>\n",
       "    </tr>\n",
       "  </tbody>\n",
       "</table>\n",
       "<p>904966 rows × 11 columns</p>\n",
       "</div>"
      ],
      "text/plain": [
       "          status  bed  bath  acre_lot           city        state  zip_code  \\\n",
       "0       for_sale  3.0   2.0      0.12       Adjuntas  Puerto Rico     601.0   \n",
       "1       for_sale  4.0   2.0      0.08       Adjuntas  Puerto Rico     601.0   \n",
       "2       for_sale  2.0   1.0      0.15     Juana Diaz  Puerto Rico     795.0   \n",
       "3       for_sale  4.0   2.0      0.10          Ponce  Puerto Rico     731.0   \n",
       "4       for_sale  6.0   2.0      0.05       Mayaguez  Puerto Rico     680.0   \n",
       "...          ...  ...   ...       ...            ...          ...       ...   \n",
       "904961  for_sale  2.0   2.0       NaN  New York City     New York   10463.0   \n",
       "904962  for_sale  2.0   2.0       NaN          Bronx     New York   10463.0   \n",
       "904963  for_sale  NaN   1.0       NaN          Bronx     New York   10463.0   \n",
       "904964  for_sale  3.0   2.0       NaN          Bronx     New York   10463.0   \n",
       "904965  for_sale  3.0   3.0       NaN  New York City     New York   10463.0   \n",
       "\n",
       "        house_size prev_sold_date     price  month  \n",
       "0            920.0            NaT  105000.0    NaN  \n",
       "1           1527.0            NaT   80000.0    NaN  \n",
       "2            748.0            NaT   67000.0    NaN  \n",
       "3           1800.0            NaT  145000.0    NaN  \n",
       "4              NaN            NaT   65000.0    NaN  \n",
       "...            ...            ...       ...    ...  \n",
       "904961         NaN     2021-08-13  359000.0    8.0  \n",
       "904962      1200.0            NaT  299000.0    NaN  \n",
       "904963         NaN            NaT  120000.0    NaN  \n",
       "904964         NaN            NaT  449000.0    NaN  \n",
       "904965      1677.0     2007-06-27  850000.0    6.0  \n",
       "\n",
       "[904966 rows x 11 columns]"
      ]
     },
     "execution_count": 96,
     "metadata": {},
     "output_type": "execute_result"
    }
   ],
   "source": [
    "realtor_data['month'] = realtor_data['prev_sold_date'].dt.month\n",
    "realtor_data"
   ]
  },
  {
   "cell_type": "code",
   "execution_count": 97,
   "id": "87ae33d8",
   "metadata": {
    "scrolled": true
   },
   "outputs": [
    {
     "data": {
      "text/plain": [
       "status                 0\n",
       "bed               129840\n",
       "bath              113884\n",
       "acre_lot          266642\n",
       "city                  72\n",
       "state                  0\n",
       "zip_code             204\n",
       "house_size        292886\n",
       "prev_sold_date    459101\n",
       "price                 71\n",
       "month             459101\n",
       "dtype: int64"
      ]
     },
     "execution_count": 97,
     "metadata": {},
     "output_type": "execute_result"
    }
   ],
   "source": [
    "realtor_data.isna().sum()"
   ]
  },
  {
   "cell_type": "code",
   "execution_count": 98,
   "id": "bd9a96f9",
   "metadata": {
    "scrolled": true
   },
   "outputs": [
    {
     "data": {
      "text/html": [
       "<div>\n",
       "<style scoped>\n",
       "    .dataframe tbody tr th:only-of-type {\n",
       "        vertical-align: middle;\n",
       "    }\n",
       "\n",
       "    .dataframe tbody tr th {\n",
       "        vertical-align: top;\n",
       "    }\n",
       "\n",
       "    .dataframe thead th {\n",
       "        text-align: right;\n",
       "    }\n",
       "</style>\n",
       "<table border=\"1\" class=\"dataframe\">\n",
       "  <thead>\n",
       "    <tr style=\"text-align: right;\">\n",
       "      <th></th>\n",
       "      <th>status</th>\n",
       "      <th>bed</th>\n",
       "      <th>bath</th>\n",
       "      <th>acre_lot</th>\n",
       "      <th>city</th>\n",
       "      <th>state</th>\n",
       "      <th>zip_code</th>\n",
       "      <th>house_size</th>\n",
       "      <th>prev_sold_date</th>\n",
       "      <th>price</th>\n",
       "      <th>month</th>\n",
       "    </tr>\n",
       "  </thead>\n",
       "  <tbody>\n",
       "    <tr>\n",
       "      <th>684</th>\n",
       "      <td>for_sale</td>\n",
       "      <td>3.0</td>\n",
       "      <td>2.0</td>\n",
       "      <td>NaN</td>\n",
       "      <td>Canovanas</td>\n",
       "      <td>Puerto Rico</td>\n",
       "      <td>729.0</td>\n",
       "      <td>1200.0</td>\n",
       "      <td>2020-02-28</td>\n",
       "      <td>76900.0</td>\n",
       "      <td>2.0</td>\n",
       "    </tr>\n",
       "    <tr>\n",
       "      <th>745</th>\n",
       "      <td>for_sale</td>\n",
       "      <td>3.0</td>\n",
       "      <td>2.0</td>\n",
       "      <td>NaN</td>\n",
       "      <td>Canovanas</td>\n",
       "      <td>Puerto Rico</td>\n",
       "      <td>729.0</td>\n",
       "      <td>1200.0</td>\n",
       "      <td>2020-02-28</td>\n",
       "      <td>76900.0</td>\n",
       "      <td>2.0</td>\n",
       "    </tr>\n",
       "    <tr>\n",
       "      <th>802</th>\n",
       "      <td>for_sale</td>\n",
       "      <td>3.0</td>\n",
       "      <td>2.0</td>\n",
       "      <td>NaN</td>\n",
       "      <td>Canovanas</td>\n",
       "      <td>Puerto Rico</td>\n",
       "      <td>729.0</td>\n",
       "      <td>1200.0</td>\n",
       "      <td>2020-02-28</td>\n",
       "      <td>76900.0</td>\n",
       "      <td>2.0</td>\n",
       "    </tr>\n",
       "    <tr>\n",
       "      <th>829</th>\n",
       "      <td>for_sale</td>\n",
       "      <td>7.0</td>\n",
       "      <td>3.0</td>\n",
       "      <td>0.09</td>\n",
       "      <td>Dorado</td>\n",
       "      <td>Puerto Rico</td>\n",
       "      <td>949.0</td>\n",
       "      <td>1192.0</td>\n",
       "      <td>2019-06-28</td>\n",
       "      <td>110000.0</td>\n",
       "      <td>6.0</td>\n",
       "    </tr>\n",
       "    <tr>\n",
       "      <th>932</th>\n",
       "      <td>for_sale</td>\n",
       "      <td>3.0</td>\n",
       "      <td>2.0</td>\n",
       "      <td>NaN</td>\n",
       "      <td>Canovanas</td>\n",
       "      <td>Puerto Rico</td>\n",
       "      <td>729.0</td>\n",
       "      <td>1200.0</td>\n",
       "      <td>2020-02-28</td>\n",
       "      <td>76900.0</td>\n",
       "      <td>2.0</td>\n",
       "    </tr>\n",
       "    <tr>\n",
       "      <th>...</th>\n",
       "      <td>...</td>\n",
       "      <td>...</td>\n",
       "      <td>...</td>\n",
       "      <td>...</td>\n",
       "      <td>...</td>\n",
       "      <td>...</td>\n",
       "      <td>...</td>\n",
       "      <td>...</td>\n",
       "      <td>...</td>\n",
       "      <td>...</td>\n",
       "      <td>...</td>\n",
       "    </tr>\n",
       "    <tr>\n",
       "      <th>904957</th>\n",
       "      <td>for_sale</td>\n",
       "      <td>1.0</td>\n",
       "      <td>1.0</td>\n",
       "      <td>NaN</td>\n",
       "      <td>Bronx</td>\n",
       "      <td>New York</td>\n",
       "      <td>10463.0</td>\n",
       "      <td>900.0</td>\n",
       "      <td>2014-04-16</td>\n",
       "      <td>219900.0</td>\n",
       "      <td>4.0</td>\n",
       "    </tr>\n",
       "    <tr>\n",
       "      <th>904959</th>\n",
       "      <td>for_sale</td>\n",
       "      <td>1.0</td>\n",
       "      <td>1.0</td>\n",
       "      <td>NaN</td>\n",
       "      <td>New York City</td>\n",
       "      <td>New York</td>\n",
       "      <td>10463.0</td>\n",
       "      <td>720.0</td>\n",
       "      <td>2022-04-01</td>\n",
       "      <td>265000.0</td>\n",
       "      <td>4.0</td>\n",
       "    </tr>\n",
       "    <tr>\n",
       "      <th>904960</th>\n",
       "      <td>for_sale</td>\n",
       "      <td>2.0</td>\n",
       "      <td>2.0</td>\n",
       "      <td>NaN</td>\n",
       "      <td>New York City</td>\n",
       "      <td>New York</td>\n",
       "      <td>10463.0</td>\n",
       "      <td>1200.0</td>\n",
       "      <td>2021-08-16</td>\n",
       "      <td>399000.0</td>\n",
       "      <td>8.0</td>\n",
       "    </tr>\n",
       "    <tr>\n",
       "      <th>904961</th>\n",
       "      <td>for_sale</td>\n",
       "      <td>2.0</td>\n",
       "      <td>2.0</td>\n",
       "      <td>NaN</td>\n",
       "      <td>New York City</td>\n",
       "      <td>New York</td>\n",
       "      <td>10463.0</td>\n",
       "      <td>NaN</td>\n",
       "      <td>2021-08-13</td>\n",
       "      <td>359000.0</td>\n",
       "      <td>8.0</td>\n",
       "    </tr>\n",
       "    <tr>\n",
       "      <th>904965</th>\n",
       "      <td>for_sale</td>\n",
       "      <td>3.0</td>\n",
       "      <td>3.0</td>\n",
       "      <td>NaN</td>\n",
       "      <td>New York City</td>\n",
       "      <td>New York</td>\n",
       "      <td>10463.0</td>\n",
       "      <td>1677.0</td>\n",
       "      <td>2007-06-27</td>\n",
       "      <td>850000.0</td>\n",
       "      <td>6.0</td>\n",
       "    </tr>\n",
       "  </tbody>\n",
       "</table>\n",
       "<p>445865 rows × 11 columns</p>\n",
       "</div>"
      ],
      "text/plain": [
       "          status  bed  bath  acre_lot           city        state  zip_code  \\\n",
       "684     for_sale  3.0   2.0       NaN      Canovanas  Puerto Rico     729.0   \n",
       "745     for_sale  3.0   2.0       NaN      Canovanas  Puerto Rico     729.0   \n",
       "802     for_sale  3.0   2.0       NaN      Canovanas  Puerto Rico     729.0   \n",
       "829     for_sale  7.0   3.0      0.09         Dorado  Puerto Rico     949.0   \n",
       "932     for_sale  3.0   2.0       NaN      Canovanas  Puerto Rico     729.0   \n",
       "...          ...  ...   ...       ...            ...          ...       ...   \n",
       "904957  for_sale  1.0   1.0       NaN          Bronx     New York   10463.0   \n",
       "904959  for_sale  1.0   1.0       NaN  New York City     New York   10463.0   \n",
       "904960  for_sale  2.0   2.0       NaN  New York City     New York   10463.0   \n",
       "904961  for_sale  2.0   2.0       NaN  New York City     New York   10463.0   \n",
       "904965  for_sale  3.0   3.0       NaN  New York City     New York   10463.0   \n",
       "\n",
       "        house_size prev_sold_date     price  month  \n",
       "684         1200.0     2020-02-28   76900.0    2.0  \n",
       "745         1200.0     2020-02-28   76900.0    2.0  \n",
       "802         1200.0     2020-02-28   76900.0    2.0  \n",
       "829         1192.0     2019-06-28  110000.0    6.0  \n",
       "932         1200.0     2020-02-28   76900.0    2.0  \n",
       "...            ...            ...       ...    ...  \n",
       "904957       900.0     2014-04-16  219900.0    4.0  \n",
       "904959       720.0     2022-04-01  265000.0    4.0  \n",
       "904960      1200.0     2021-08-16  399000.0    8.0  \n",
       "904961         NaN     2021-08-13  359000.0    8.0  \n",
       "904965      1677.0     2007-06-27  850000.0    6.0  \n",
       "\n",
       "[445865 rows x 11 columns]"
      ]
     },
     "execution_count": 98,
     "metadata": {},
     "output_type": "execute_result"
    }
   ],
   "source": [
    "only_prev_sold = realtor_data.loc[realtor_data['prev_sold_date'].notnull()] \n",
    "only_prev_sold"
   ]
  },
  {
   "cell_type": "code",
   "execution_count": 99,
   "id": "d1fa2fa9",
   "metadata": {
    "scrolled": true
   },
   "outputs": [
    {
     "data": {
      "text/plain": [
       "status                 0\n",
       "bed                26121\n",
       "bath               16909\n",
       "acre_lot          122687\n",
       "city                   0\n",
       "state                  0\n",
       "zip_code               0\n",
       "house_size        133214\n",
       "prev_sold_date         0\n",
       "price                  0\n",
       "month                  0\n",
       "dtype: int64"
      ]
     },
     "execution_count": 99,
     "metadata": {},
     "output_type": "execute_result"
    }
   ],
   "source": [
    "only_prev_sold.isna().sum()"
   ]
  },
  {
   "cell_type": "code",
   "execution_count": 100,
   "id": "5ee04133",
   "metadata": {
    "scrolled": true
   },
   "outputs": [
    {
     "data": {
      "text/plain": [
       "1.0     32967\n",
       "2.0     28151\n",
       "3.0     32821\n",
       "4.0     33784\n",
       "5.0     36500\n",
       "6.0     42541\n",
       "7.0     44028\n",
       "8.0     43456\n",
       "9.0     38578\n",
       "10.0    39881\n",
       "11.0    34938\n",
       "12.0    38220\n",
       "Name: month, dtype: int64"
      ]
     },
     "execution_count": 100,
     "metadata": {},
     "output_type": "execute_result"
    }
   ],
   "source": [
    "only_prev_sold=realtor_data['month'].value_counts()\n",
    "only_prev_sold.sort_index()"
   ]
  },
  {
   "cell_type": "code",
   "execution_count": 58,
   "id": "0110e6b9",
   "metadata": {
    "scrolled": true
   },
   "outputs": [
    {
     "name": "stdout",
     "output_type": "stream",
     "text": [
      "Q1 = 93939\n",
      "Q2 = 112825\n",
      "Q3 = 126062 *MOST*\n",
      "Q4 = 113039\n"
     ]
    }
   ],
   "source": [
    "Q1 = 32967 + 28151 + 32821\n",
    "Q2 = 33784 + 36500 + 42541\n",
    "Q3 = 44028 + 43456 + 38578\n",
    "Q4 = 39881 + 34938 + 38220\n",
    "\n",
    "print('Q1 =', Q1)\n",
    "print('Q2 =', Q2)\n",
    "print('Q3 =', Q3, '*MOST*')\n",
    "print('Q4 =', Q4)"
   ]
  },
  {
   "cell_type": "markdown",
   "id": "c7291855",
   "metadata": {},
   "source": [
    "# Summary\n",
    "\n",
    "## Actions\n",
    "\n",
    "### Our goal was to dig a little deeper into the data and understand some key questions. We used Python to clean and analyze the data to answer those questions.\n",
    "\n",
    "## What Else Would I Explore or Contribute To This Data?\n",
    "\n",
    "### One thing that became aparent while working with the dataset. There is no distinction of if a property is a residential or commercial property. I think that is a huge factor in any real estate conversation. Commercial and residential are two very different worlds in the realm of real estate. To place them in one dataset is fine but there should be a way to identify and seperate the two for an even more in-depth look at our data."
   ]
  },
  {
   "cell_type": "code",
   "execution_count": null,
   "id": "e234ece8",
   "metadata": {},
   "outputs": [],
   "source": []
  }
 ],
 "metadata": {
  "kernelspec": {
   "display_name": "Python 3 (ipykernel)",
   "language": "python",
   "name": "python3"
  },
  "language_info": {
   "codemirror_mode": {
    "name": "ipython",
    "version": 3
   },
   "file_extension": ".py",
   "mimetype": "text/x-python",
   "name": "python",
   "nbconvert_exporter": "python",
   "pygments_lexer": "ipython3",
   "version": "3.11.4"
  }
 },
 "nbformat": 4,
 "nbformat_minor": 5
}
